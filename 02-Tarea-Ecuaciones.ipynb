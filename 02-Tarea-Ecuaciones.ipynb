{
 "cells": [
  {
   "attachments": {},
   "cell_type": "markdown",
   "metadata": {},
   "source": [
    "# Tarea Vectores u Arreglos\n",
    "\n",
    "## *Avendaño Villegas Brandon*"
   ]
  },
  {
   "attachments": {},
   "cell_type": "markdown",
   "metadata": {},
   "source": [
    "Primer Problema\n",
    "---\n",
    "Llamamos matriz cero y se denota O, la cual contiene muchos ceros, comprobar las siguientes\n",
    "propiedades:\n",
    "\n",
    "$$\n",
    "\\left(\\begin{array}{cc} \n",
    "1 & 4\\\\\n",
    "-1 & 3\\\\\n",
    "2 & -9\n",
    "\\end{array}\\right) $$\n",
    "\n",
    "\n",
    "$$ A + O = A − O = A $$\n",
    "$$ A − A = O $$"
   ]
  },
  {
   "cell_type": "code",
   "execution_count": 4,
   "metadata": {},
   "outputs": [],
   "source": [
    "import numpy as np"
   ]
  },
  {
   "cell_type": "code",
   "execution_count": 3,
   "metadata": {},
   "outputs": [
    {
     "name": "stdout",
     "output_type": "stream",
     "text": [
      "[[0 0]\n",
      " [0 0]\n",
      " [0 0]]\n",
      "--------------------\n"
     ]
    }
   ],
   "source": [
    "A=np.array([[1,4],[-1,3],[1,-9]])\n",
    "cero= np.zeros((3,2))\n",
    "r=A-A\n",
    "print(r)\n",
    "print(\"--------------------\")\n"
   ]
  },
  {
   "cell_type": "code",
   "execution_count": 4,
   "metadata": {},
   "outputs": [
    {
     "name": "stdout",
     "output_type": "stream",
     "text": [
      "[[0 0]\n",
      " [0 0]\n",
      " [0 0]]\n"
     ]
    }
   ],
   "source": [
    "A=np.array([[3,0],[-1,3],[2,-9]])\n",
    "cero=np.zeros((3,2))\n",
    "r=A-A\n",
    "print(r)"
   ]
  },
  {
   "attachments": {},
   "cell_type": "markdown",
   "metadata": {},
   "source": [
    "Segundo Problema\n",
    "---\n",
    "Sea\n",
    "$$\n",
    "A= \\left[\\begin{array}{cc} \n",
    "3 & 0\\\\\n",
    "-1 & 5\n",
    "\\end{array}\\right] \n",
    "$$\n",
    "\n",
    "$$\n",
    "B= \\left[\\begin{array}{cc} \n",
    "4 & -2 & 1\\\\\n",
    "0 & 2 & 3\n",
    "\\end{array}\\right]\n",
    "$$\n",
    "\n",
    "1. $A+3B$\n",
    "2. $AB$\n",
    "4. $A^3$\n",
    "5. $B^2$\n",
    "7. $(5A)B$"
   ]
  },
  {
   "cell_type": "code",
   "execution_count": 10,
   "metadata": {},
   "outputs": [
    {
     "name": "stdout",
     "output_type": "stream",
     "text": [
      "A + 3B:\n",
      "[[15 -6]\n",
      " [-1 11]]\n",
      "AB:\n",
      "[[12 -6  3]\n",
      " [-4 12 14]]\n",
      "A^3:\n",
      "[[ 27   0]\n",
      " [-49 125]]\n",
      "B^2:\n",
      "[[21 -1]\n",
      " [-1 13]]\n",
      "(5A)B:\n",
      "[[ 60 -30  15]\n",
      " [-20  60  70]]\n"
     ]
    }
   ],
   "source": [
    "A=np.array([[3,0],[-1,5]])\n",
    "\n",
    "B=np.array([[4,-2,1],[0,2,3]])\n",
    "\n",
    "# A + 3B\n",
    "result1 = A + 3 * B[:, :2]  # Se seleccionan las dos primeras columnas de B para que las dimensiones sean compatibles\n",
    "print(\"A + 3B:\")\n",
    "print(result1)\n",
    "\n",
    "# AB\n",
    "result2 = np.dot(A, B)\n",
    "print(\"AB:\")\n",
    "print(result2)\n",
    "\n",
    "# A^3\n",
    "result3 = np.linalg.matrix_power(A, 3)\n",
    "print(\"A^3:\")\n",
    "print(result3)\n",
    "\n",
    "# B^2\n",
    "result4 = np.dot(B, B.T)  # Se realiza la multiplicación de B con su transpuesta para obtener la potencia 2\n",
    "print(\"B^2:\")\n",
    "print(result4)\n",
    "\n",
    "# (5A)B\n",
    "result5 = np.dot(5 * A, B)\n",
    "print(\"(5A)B:\")\n",
    "print(result5)"
   ]
  },
  {
   "attachments": {},
   "cell_type": "markdown",
   "metadata": {},
   "source": [
    "Tercer Problema\n",
    "---\n",
    "Dos restaurantes desean comprar frutas para la siguiente semana. La tabla 1 muestra que tipo\n",
    "de fruta y cantidad desean adquirir. Se tienen dos centros comerciales, la tabla 2 muestra sus\n",
    "precios. ¿Cuánto costara comprar las frutas para cada uno de los centros comerciales?\n",
    "\n",
    "* Tabla 1\n",
    "\n",
    "|                | Naranjas       | Manzanas |Piñas        |\n",
    "|----------------|:--------------:|:----------:|:---------:|\n",
    "|Restaurante Uno | 30             | 15         |4          |\n",
    "|Restaurante Dos | 25             | 18         |8          |\n",
    "\n",
    "* Tabla 2\n",
    "\n",
    "|                     | Naranjas       | Manzanas   |Piñas      |\n",
    "|---------------------|:--------------:|:----------:|:---------:|\n",
    "|Centro Comercial Uno | 1.2            | 2.2        |4.5        |\n",
    "|Centro Comercial Dos | 1.3            | 2.1        |4.6        |"
   ]
  },
  {
   "cell_type": "code",
   "execution_count": 6,
   "metadata": {},
   "outputs": [
    {
     "name": "stdout",
     "output_type": "stream",
     "text": [
      "Costos de frutas para cada centro comercial:\n",
      "[[ 87.   88.9]\n",
      " [105.6 107.1]]\n"
     ]
    }
   ],
   "source": [
    "fruits = np.array([[30, 15, 4], [25, 18, 8]])\n",
    "prices = np.array([[1.2, 2.2, 4.5], [1.3, 2.1, 4.6]])\n",
    "\n",
    "# Calcular el costo de frutas para cada centro comercial\n",
    "costs = np.dot(fruits, prices.T)\n",
    "print(\"Costos de frutas para cada centro comercial:\")\n",
    "print(costs)"
   ]
  },
  {
   "attachments": {},
   "cell_type": "markdown",
   "metadata": {},
   "source": [
    "Cuarto Problema\n",
    "---\n",
    "Una fábrica elabora tres productos (escobas, escobetas, cepillos) y los envía a dos almacenes\n",
    "para su cuidado. El número de unidades esta dado en la tabla \n",
    "\n",
    "* Tabla 3\n",
    "\n",
    "|          |     |   |\n",
    "|----------|:---:|:-:|\n",
    "|Escobas   | 30  | 15|\n",
    "|Escobetas | 25  | 18|\n",
    "|Cepillos  | 100 |125|\n",
    "\n",
    "El costo de embarcar por camión es por cada unidad de escoba es 1.50, escobetas 1.00 y cepillos\n",
    "2.00, el costo por tren es escoba es 1.75, escobetas 1.50 y cepillos 1.00. Organizar la información\n",
    "en una matriz, para ocupar la multiplicación de matrices, dependiendo de los resultados, indica\n",
    "que le conviene a la empresa embarcar con camión o tren."
   ]
  },
  {
   "cell_type": "code",
   "execution_count": 11,
   "metadata": {},
   "outputs": [
    {
     "name": "stdout",
     "output_type": "stream",
     "text": [
      "Es más económico embarcar por tren.\n"
     ]
    }
   ],
   "source": [
    "# Definir la tabla de unidades y costos de embarque\n",
    "units = np.array([[30, 15], [25, 18], [100, 125]])\n",
    "truck_cost = np.array([1.5, 1.0, 2.0])\n",
    "train_cost = np.array([1.75, 1.5, 1.0])\n",
    "\n",
    "# Calcular el costo total de embarque por camión y tren\n",
    "total_truck_cost = np.sum(units * truck_cost.reshape(3, 1), axis=0)\n",
    "total_train_cost = np.sum(units * train_cost.reshape(3, 1), axis=0)\n",
    "\n",
    "# Comparar los costos y determinar la opción más económica\n",
    "if np.sum(total_truck_cost) < np.sum(total_train_cost):\n",
    "    print(\"Es más económico embarcar por camión.\")\n",
    "else:\n",
    "    print(\"Es más económico embarcar por tren.\")"
   ]
  },
  {
   "attachments": {},
   "cell_type": "markdown",
   "metadata": {},
   "source": [
    "5. Resolver el siguiente sistema de ecuaciones\n",
    "\n",
    "$$3x + 2y = 6$$\n",
    "$$6x + 4y = −9$$\n",
    "\n",
    "$$x + y = 3$$\n",
    "$$x − 4y = 1$$\n",
    "\n",
    "$$2x − y + 2z = 3$$\n",
    "$$2x + 3y − z = 0$$\n",
    "$$x + 2y + 2z = −12$$"
   ]
  },
  {
   "cell_type": "code",
   "execution_count": 12,
   "metadata": {},
   "outputs": [
    {
     "name": "stdout",
     "output_type": "stream",
     "text": [
      "Solución del sistema de ecuaciones 1:\n",
      "(array([-0.55384615, -0.36923077]), array([], dtype=float64), 1, array([8.06225775e+00, 3.69504558e-16]))\n",
      "------------------------------------------\n",
      "Solución del sistema de ecuaciones 2:\n",
      "[2.6 0.4]\n",
      "------------------------------------------\n",
      "Solución del sistema de ecuaciones 3:\n",
      "[ 3.65217391 -3.7826087  -4.04347826]\n"
     ]
    },
    {
     "name": "stderr",
     "output_type": "stream",
     "text": [
      "C:\\Users\\angel\\AppData\\Local\\Temp\\ipykernel_18032\\2441940689.py:11: FutureWarning: `rcond` parameter will change to the default of machine precision times ``max(M, N)`` where M and N are the input matrix dimensions.\n",
      "To use the future default and silence this warning we advise to pass `rcond=None`, to keep using the old, explicitly pass `rcond=-1`.\n",
      "  solutionSis1 = np.linalg.lstsq(coefficientsSis1, constantsSis1)\n"
     ]
    }
   ],
   "source": [
    "# Definir los coeficientes y los términos constantes del sistema de ecuaciones\n",
    "coefficientsSis1 = np.array([[3,2],[6,4]])\n",
    "coefficientsSis2 = np.array([[1, 1], [1, -4]])\n",
    "coefficientsSis3 = np.array([[2, -1, 2], [2, 3, -1], [1, 2, 2]])\n",
    "\n",
    "constantsSis1 = np.array([6,-9])\n",
    "constantsSis2 = np.array([3, 1])\n",
    "constantsSis3 = np.array([3, 0, -12])\n",
    "\n",
    "# Obtener la solución del sistema de ecuaciones\n",
    "solutionSis1 = np.linalg.lstsq(coefficientsSis1, constantsSis1)\n",
    "solutionSis2 = np.linalg.solve(coefficientsSis2, constantsSis2)\n",
    "solutionSis3 = np.linalg.solve(coefficientsSis3, constantsSis3)\n",
    "print(\"Solución del sistema de ecuaciones 1:\")\n",
    "print(solutionSis1)\n",
    "print(\"------------------------------------------\")\n",
    "print(\"Solución del sistema de ecuaciones 2:\")\n",
    "print(solutionSis2)\n",
    "print(\"------------------------------------------\")\n",
    "print(\"Solución del sistema de ecuaciones 3:\")\n",
    "print(solutionSis3)"
   ]
  }
 ],
 "metadata": {
  "kernelspec": {
   "display_name": "base",
   "language": "python",
   "name": "python3"
  },
  "language_info": {
   "codemirror_mode": {
    "name": "ipython",
    "version": 3
   },
   "file_extension": ".py",
   "mimetype": "text/x-python",
   "name": "python",
   "nbconvert_exporter": "python",
   "pygments_lexer": "ipython3",
   "version": "3.9.13"
  },
  "orig_nbformat": 4
 },
 "nbformat": 4,
 "nbformat_minor": 2
}
