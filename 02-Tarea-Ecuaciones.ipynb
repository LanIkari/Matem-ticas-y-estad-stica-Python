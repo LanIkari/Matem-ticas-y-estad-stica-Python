{
 "cells": [
  {
   "attachments": {},
   "cell_type": "markdown",
   "metadata": {},
   "source": [
    "# Segunda tanda de Ejercicios"
   ]
  },
  {
   "cell_type": "code",
   "execution_count": 35,
   "metadata": {},
   "outputs": [
    {
     "name": "stdout",
     "output_type": "stream",
     "text": [
      "[8, 16, 4, 12]\n"
     ]
    }
   ],
   "source": [
    "a=[2,4]\n",
    "b=[16,32,96]\n",
    "a.sort()\n",
    "b.sort()\n",
    "sc=[]\n",
    "for i in range(a[-1],b[0]+1):\n",
    "    for n in a:\n",
    "        if i%n==0:\n",
    "            for m in b:\n",
    "                if m%i==0:\n",
    "                    sc.append(i)\n",
    "        elif i%m!=0 and i in sc:\n",
    "            sc.remove(i)\n",
    "print(list(set(sc)))"
   ]
  },
  {
   "attachments": {},
   "cell_type": "markdown",
   "metadata": {},
   "source": [
    "Primer Problema\n",
    "---\n",
    "Llamamos matriz cero y se denota O, la cual contiene muchos ceros, comprobar las siguientes\n",
    "propiedades:\n",
    "\n",
    "$$\n",
    "\\left(\\begin{array}{cc} \n",
    "1 & 4\\\\\n",
    "-1 & 3\\\\\n",
    "2 & -9\n",
    "\\end{array}\\right) $$\n",
    "\n",
    "\n",
    "$$ A + O = A − O = A $$\n",
    "$$ A − A = O $$"
   ]
  },
  {
   "cell_type": "code",
   "execution_count": 2,
   "metadata": {},
   "outputs": [],
   "source": [
    "import numpy as np"
   ]
  },
  {
   "cell_type": "code",
   "execution_count": 15,
   "metadata": {},
   "outputs": [
    {
     "name": "stdout",
     "output_type": "stream",
     "text": [
      "[[0 0]\n",
      " [0 0]\n",
      " [0 0]]\n",
      "--------------------\n"
     ]
    }
   ],
   "source": [
    "A=np.array([[1,4],[-1,3],[1,-9]])\n",
    "cero= np.zeros((3,2))\n",
    "r=A-A\n",
    "print(r)\n",
    "print(\"--------------------\")\n"
   ]
  },
  {
   "cell_type": "code",
   "execution_count": 7,
   "metadata": {},
   "outputs": [
    {
     "name": "stdout",
     "output_type": "stream",
     "text": [
      "[[0 0]\n",
      " [0 0]\n",
      " [0 0]]\n"
     ]
    }
   ],
   "source": [
    "A=np.array([[3,0],[-1,3],[2,-9]])\n",
    "cero=np.zeros((3,2))\n",
    "r=A-A\n",
    "print(r)"
   ]
  },
  {
   "attachments": {},
   "cell_type": "markdown",
   "metadata": {},
   "source": [
    "Segundo Problema\n",
    "---\n",
    "Sea\n",
    "$$\n",
    "A= \\left[\\begin{array}{cc} \n",
    "3 & 0\\\\\n",
    "-1 & 5\n",
    "\\end{array}\\right] \n",
    "$$\n",
    "\n",
    "$$\n",
    "B= \\left[\\begin{array}{cc} \n",
    "4 & -2 & 1\\\\\n",
    "0 & 2 & 3\n",
    "\\end{array}\\right]\n",
    "$$\n",
    "\n",
    "1. $A+3B$\n",
    "2. $AB$\n",
    "4. $A^3$\n",
    "5. $B^2$\n",
    "7. $(5A)B$"
   ]
  },
  {
   "cell_type": "code",
   "execution_count": 39,
   "metadata": {},
   "outputs": [
    {
     "name": "stdout",
     "output_type": "stream",
     "text": [
      "[[ 4 -2]\n",
      " [ 1  0]\n",
      " [ 2  3]]\n"
     ]
    },
    {
     "ename": "ValueError",
     "evalue": "operands could not be broadcast together with shapes (2,2) (3,2) ",
     "output_type": "error",
     "traceback": [
      "\u001b[1;31m---------------------------------------------------------------------------\u001b[0m",
      "\u001b[1;31mValueError\u001b[0m                                Traceback (most recent call last)",
      "\u001b[1;32m~\\AppData\\Local\\Temp\\ipykernel_12280\\252550003.py\u001b[0m in \u001b[0;36m<module>\u001b[1;34m\u001b[0m\n\u001b[0;32m      4\u001b[0m \u001b[0mB\u001b[0m\u001b[1;33m=\u001b[0m\u001b[0mb\u001b[0m\u001b[1;33m.\u001b[0m\u001b[0mreshape\u001b[0m\u001b[1;33m(\u001b[0m\u001b[1;36m3\u001b[0m\u001b[1;33m,\u001b[0m\u001b[1;36m2\u001b[0m\u001b[1;33m)\u001b[0m \u001b[1;31m#Redimencionamos la matriz para operar con ella\u001b[0m\u001b[1;33m\u001b[0m\u001b[1;33m\u001b[0m\u001b[0m\n\u001b[0;32m      5\u001b[0m \u001b[0mprint\u001b[0m\u001b[1;33m(\u001b[0m\u001b[0mB\u001b[0m\u001b[1;33m)\u001b[0m\u001b[1;33m\u001b[0m\u001b[1;33m\u001b[0m\u001b[0m\n\u001b[1;32m----> 6\u001b[1;33m \u001b[0muno\u001b[0m\u001b[1;33m=\u001b[0m\u001b[0mA\u001b[0m\u001b[1;33m+\u001b[0m\u001b[1;33m(\u001b[0m\u001b[0mB\u001b[0m\u001b[1;33m*\u001b[0m\u001b[1;36m3\u001b[0m\u001b[1;33m)\u001b[0m\u001b[1;33m\u001b[0m\u001b[1;33m\u001b[0m\u001b[0m\n\u001b[0m\u001b[0;32m      7\u001b[0m \u001b[0mprint\u001b[0m\u001b[1;33m(\u001b[0m\u001b[0muno\u001b[0m\u001b[1;33m)\u001b[0m\u001b[1;33m\u001b[0m\u001b[1;33m\u001b[0m\u001b[0m\n\u001b[0;32m      8\u001b[0m \u001b[0mdos\u001b[0m\u001b[1;33m=\u001b[0m\u001b[0mA\u001b[0m\u001b[1;33m@\u001b[0m\u001b[0mB\u001b[0m\u001b[1;33m\u001b[0m\u001b[1;33m\u001b[0m\u001b[0m\n",
      "\u001b[1;31mValueError\u001b[0m: operands could not be broadcast together with shapes (2,2) (3,2) "
     ]
    }
   ],
   "source": [
    "A=np.array([[3,0],[-1,5]])\n",
    "\n",
    "b=np.array([[4,-2,1],[0,2,3]])\n",
    "B=b.reshape(3,2) #Redimencionamos la matriz para operar con ella\n",
    "print(B)\n",
    "uno=A+(B*3)\n",
    "print(uno)\n",
    "dos=A@B\n",
    "print(dos)\n",
    "tres=A@A@A\n",
    "print(tres)\n",
    "cuatro=B@B\n",
    "print(cuatro)\n",
    "cinco=(5*A)*B\n",
    "print(cinco)"
   ]
  },
  {
   "attachments": {},
   "cell_type": "markdown",
   "metadata": {},
   "source": [
    "Tercer Problema\n",
    "---\n",
    "Dos restaurantes desean comprar frutas para la siguiente semana. La tabla 1 muestra que tipo\n",
    "de fruta y cantidad desean adquirir. Se tienen dos centros comerciales, la tabla 2 muestra sus\n",
    "precios. ¿Cuánto costara comprar las frutas para cada uno de los centros comerciales?\n",
    "\n",
    "* Tabla 1\n",
    "\n",
    "|                | Naranjas       | Manzanas |Piñas        |\n",
    "|----------------|:--------------:|:----------:|:---------:|\n",
    "|Restaurante Uno | 30             | 15         |4          |\n",
    "|Restaurante Dos | 25             | 18         |8          |\n",
    "\n",
    "* Tabla 2\n",
    "\n",
    "|                     | Naranjas       | Manzanas   |Piñas      |\n",
    "|---------------------|:--------------:|:----------:|:---------:|\n",
    "|Centro Comercial Uno | 1.2            | 2.2        |4.5        |\n",
    "|Centro Comercial Dos | 1.3            | 2.1        |4.6        |"
   ]
  },
  {
   "attachments": {},
   "cell_type": "markdown",
   "metadata": {},
   "source": [
    "Cuarto Problema\n",
    "---\n",
    "Una fábrica elabora tres productos (escobas, escobetas, cepillos) y los envía a dos almacenes\n",
    "para su cuidado. El número de unidades esta dado en la tabla \n",
    "\n",
    "* Tabla 3\n",
    "\n",
    "|          |     |   |\n",
    "|----------|:---:|:-:|\n",
    "|Escobas   | 30  | 15|\n",
    "|Escobetas | 25  | 18|\n",
    "|Cepillos  | 100 |125|\n",
    "\n",
    "El costo de embarcar por camión es por cada unidad de escoba es 1.50, escobetas 1.00 y cepillos\n",
    "2.00, el costo por tren es escoba es 1.75, escobetas 1.50 y cepillos 1.00. Organizar la información\n",
    "en una matriz, para ocupar la multiplicación de matrices, dependiendo de los resultados, indica\n",
    "que le conviene a la empresa embarcar con camión o tren."
   ]
  }
 ],
 "metadata": {
  "kernelspec": {
   "display_name": "base",
   "language": "python",
   "name": "python3"
  },
  "language_info": {
   "codemirror_mode": {
    "name": "ipython",
    "version": 3
   },
   "file_extension": ".py",
   "mimetype": "text/x-python",
   "name": "python",
   "nbconvert_exporter": "python",
   "pygments_lexer": "ipython3",
   "version": "3.9.13"
  },
  "orig_nbformat": 4
 },
 "nbformat": 4,
 "nbformat_minor": 2
}
