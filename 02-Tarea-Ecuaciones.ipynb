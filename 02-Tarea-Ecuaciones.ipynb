{
 "cells": [
  {
   "attachments": {},
   "cell_type": "markdown",
   "metadata": {},
   "source": [
    "# Segunda tanda de Ejercicios"
   ]
  },
  {
   "cell_type": "code",
   "execution_count": 35,
   "metadata": {},
   "outputs": [
    {
     "name": "stdout",
     "output_type": "stream",
     "text": [
      "[8, 16, 4, 12]\n"
     ]
    }
   ],
   "source": [
    "a=[2,4]\n",
    "b=[16,32,96]\n",
    "a.sort()\n",
    "b.sort()\n",
    "sc=[]\n",
    "for i in range(a[-1],b[0]+1):\n",
    "    for n in a:\n",
    "        if i%n==0:\n",
    "            for m in b:\n",
    "                if m%i==0:\n",
    "                    sc.append(i)\n",
    "        elif i%m!=0 and i in sc:\n",
    "            sc.remove(i)\n",
    "print(list(set(sc)))"
   ]
  },
  {
   "attachments": {},
   "cell_type": "markdown",
   "metadata": {},
   "source": [
    "Primer Problema\n",
    "---\n",
    "Llamamos matriz cero y se denota O, la cual contiene muchos ceros, comprobar las siguientes\n",
    "propiedades:\n",
    "\n",
    "$$ ([1, 4]\n",
    ",[−1, 3],\n",
    "[2, −9]) $$\n",
    "\n",
    "* $$ A + O = A − O = A $$\n",
    "* $$ A − A = O $$"
   ]
  },
  {
   "cell_type": "code",
   "execution_count": 3,
   "metadata": {},
   "outputs": [],
   "source": [
    "import numpy as np"
   ]
  },
  {
   "cell_type": "code",
   "execution_count": 6,
   "metadata": {},
   "outputs": [
    {
     "name": "stdout",
     "output_type": "stream",
     "text": [
      "[[0 0]\n",
      " [0 0]\n",
      " [0 0]]\n"
     ]
    }
   ],
   "source": [
    "A=np.array([[1,4],[-1,3],[1,-9]])\n",
    "cero= np.zeros((3,2))\n",
    "r=A-A\n",
    "print(r)\n"
   ]
  },
  {
   "cell_type": "code",
   "execution_count": 7,
   "metadata": {},
   "outputs": [
    {
     "name": "stdout",
     "output_type": "stream",
     "text": [
      "[[0 0]\n",
      " [0 0]\n",
      " [0 0]]\n"
     ]
    }
   ],
   "source": [
    "A=np.array([[3,0],[-1,3],[2,-9]])\n",
    "cero=np.zeros((3,2))\n",
    "r=A-A\n",
    "print(r)"
   ]
  },
  {
   "attachments": {},
   "cell_type": "markdown",
   "metadata": {},
   "source": [
    "Tercer Problema\n",
    "---\n",
    "Dos restaurantes desean comprar frutas para la siguiente semana. La tabla 1 muestra que tipo\n",
    "de fruta y cantidad desean adquirir. Se tienen dos centros comerciales, la tabla 2 muestra sus\n",
    "precios. ¿Cuánto costara comprar las frutas para cada uno de los centros comerciales?\n",
    "\n",
    "* Tabla 1\n",
    "\n",
    "|                | Naranjas     | Manzanas |Piñas    |\n",
    "|----------------|:--------------:|:----------:|:---------:|\n",
    "|Restaurante Uno | 30             | 15         |4          |\n",
    "|Restaurante Dos | 25             | 18         |8          |\n",
    "\n",
    "* Tabla 2\n",
    "\n",
    "|                     | Naranjas       | Manzanas   |Piñas      |\n",
    "|---------------------|:--------------:|:----------:|:---------:|\n",
    "|Centro Comercial Uno | 1.2            | 2.2        |4.5        |\n",
    "|Centro Comercial Dos | 1.3            | 2.1        |4.6        |"
   ]
  }
 ],
 "metadata": {
  "kernelspec": {
   "display_name": "base",
   "language": "python",
   "name": "python3"
  },
  "language_info": {
   "codemirror_mode": {
    "name": "ipython",
    "version": 3
   },
   "file_extension": ".py",
   "mimetype": "text/x-python",
   "name": "python",
   "nbconvert_exporter": "python",
   "pygments_lexer": "ipython3",
   "version": "3.9.13"
  },
  "orig_nbformat": 4
 },
 "nbformat": 4,
 "nbformat_minor": 2
}
