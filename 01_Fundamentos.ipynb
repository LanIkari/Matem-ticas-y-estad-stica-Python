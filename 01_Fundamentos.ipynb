{
 "cells": [
  {
   "cell_type": "markdown",
   "id": "c091a745",
   "metadata": {},
   "source": [
    "## Temas:\n",
    "-----------------\n",
    "* Tipos de datos en python \n",
    "* Arreglos en numpy \n",
    "* sistemas de ecuaciones \n",
    "* Matplotlib\n",
    "* Numeros aleatorios\n",
    "* Estadistica descriptiva"
   ]
  },
  {
   "cell_type": "markdown",
   "id": "2c45c50e",
   "metadata": {},
   "source": [
    "### Tipos de datos con Python"
   ]
  },
  {
   "cell_type": "code",
   "execution_count": 44,
   "id": "2b63e420",
   "metadata": {},
   "outputs": [],
   "source": [
    "from decimal import Decimal \n",
    "from decimal import getcontext\n",
    "from decimal import localcontext\n",
    "from fractions import Fraction\n",
    "import math\n",
    "ctx=getcontext()"
   ]
  },
  {
   "cell_type": "code",
   "execution_count": 23,
   "id": "0bff3235",
   "metadata": {},
   "outputs": [
    {
     "name": "stdout",
     "output_type": "stream",
     "text": [
      "1.4641\n"
     ]
    }
   ],
   "source": [
    "\"\"\"Esta notacion nos da la versatilidad de trabajar con numeros decimales muy grandes\n",
    "ademas de que nos quita la preocupacion de los tipos de datos, lo que es muy util al trabajar con\n",
    "datos exteriores\"\"\"\n",
    "num1=Decimal('1.1324242')\n",
    "print(num1**4)"
   ]
  },
  {
   "cell_type": "code",
   "execution_count": 28,
   "id": "9d402b8f",
   "metadata": {},
   "outputs": [
    {
     "name": "stdout",
     "output_type": "stream",
     "text": [
      "1.46\n"
     ]
    }
   ],
   "source": [
    "# Delimitamos el numero de numero de decimalesm\n",
    "ctx.prec=3\n",
    "print(num1**4)"
   ]
  },
  {
   "cell_type": "code",
   "execution_count": 31,
   "id": "13d3e3c4",
   "metadata": {},
   "outputs": [
    {
     "name": "stdout",
     "output_type": "stream",
     "text": [
      "1.5\n",
      "1.46\n"
     ]
    }
   ],
   "source": [
    "\"\"\"Podemos especificar el momento en que queremos solo cierta cantidad de decimales\"\"\"\n",
    "with localcontext() as ctx:\n",
    "    ctx.prec=2\n",
    "    print(num1**4)\n",
    "print(num1**4)"
   ]
  },
  {
   "cell_type": "code",
   "execution_count": 36,
   "id": "2e26b601",
   "metadata": {},
   "outputs": [
    {
     "name": "stdout",
     "output_type": "stream",
     "text": [
      "(4+2j)\n"
     ]
    }
   ],
   "source": [
    "# Operaciones con numeros complejos\n",
    "z=1+2j\n",
    "print(z+3)"
   ]
  },
  {
   "cell_type": "code",
   "execution_count": 37,
   "id": "30be241f",
   "metadata": {},
   "outputs": [
    {
     "name": "stdout",
     "output_type": "stream",
     "text": [
      "7/10\n"
     ]
    }
   ],
   "source": [
    "# Operaciones con numeros fraccionarios\n",
    "num2=Fraction(1,2)\n",
    "num3=Fraction(1,5)\n",
    "print(num2+num3)"
   ]
  },
  {
   "cell_type": "code",
   "execution_count": 63,
   "id": "2a200ed6",
   "metadata": {},
   "outputs": [
    {
     "name": "stdout",
     "output_type": "stream",
     "text": [
      "8.0\n"
     ]
    }
   ],
   "source": [
    "# Raiz cuadrada\n",
    "print(math.sqrt(64))"
   ]
  },
  {
   "cell_type": "code",
   "execution_count": 50,
   "id": "77d39a02",
   "metadata": {},
   "outputs": [
    {
     "name": "stdout",
     "output_type": "stream",
     "text": [
      "0.7071067811865476\n",
      "0.7071067811865476\n",
      "0.9999999999999999\n"
     ]
    }
   ],
   "source": [
    "# Operaciones con angulos, da pauta para geometria mas avanzada \n",
    "theta=math.pi/4\n",
    "print(math.sin(theta))\n",
    "print(math.cos(theta))\n",
    "print(math.tan(theta))"
   ]
  },
  {
   "cell_type": "code",
   "execution_count": 53,
   "id": "8b5a8c64",
   "metadata": {},
   "outputs": [
    {
     "name": "stdout",
     "output_type": "stream",
     "text": [
      "1.0\n",
      "2.0\n",
      "2.302585092994046\n"
     ]
    }
   ],
   "source": [
    "# Operaciones con algoritmos\n",
    "print(math.log(10,10))\n",
    "print(math.log(25,5))\n",
    "print(math.log(10)) # Si no especificamos un base e"
   ]
  },
  {
   "cell_type": "code",
   "execution_count": 55,
   "id": "4c09124e",
   "metadata": {},
   "outputs": [
    {
     "name": "stdout",
     "output_type": "stream",
     "text": [
      "2\n"
     ]
    }
   ],
   "source": [
    "print(math.gcd(2,4,8))"
   ]
  },
  {
   "cell_type": "markdown",
   "id": "f00c11e1",
   "metadata": {},
   "source": [
    "### Combinaciones con Math"
   ]
  },
  {
   "cell_type": "code",
   "execution_count": 66,
   "id": "f9791a19",
   "metadata": {},
   "outputs": [
    {
     "name": "stdout",
     "output_type": "stream",
     "text": [
      "3\n",
      "6\n",
      "24\n"
     ]
    }
   ],
   "source": [
    "print(math.comb(3,2)) #Combinaciones no importa si se repiten\n",
    "print(math.perm(3,2)) #Permutaciones importa el orden en el que estan\n",
    "print(math.factorial(4))"
   ]
  },
  {
   "cell_type": "code",
   "execution_count": 73,
   "id": "b60c4ce2",
   "metadata": {},
   "outputs": [
    {
     "name": "stdout",
     "output_type": "stream",
     "text": [
      "[0.1, 0.1, 0.1, 0.1, 0.1, 0.1, 0.1, 0.1, 0.1, 0.1]\n",
      "0.9999999999999999\n",
      "1.0\n"
     ]
    }
   ],
   "source": [
    "listNum=[.1]*10 #creacion lista de 10 elementos de 0.1\n",
    "print(listNum)\n",
    "print(sum(listNum)) # Sum tiene contexto, por lo que no redondea la suma\n",
    "print(math.fsum(listNum)) # Esta notacion con Math nos permite redondear"
   ]
  },
  {
   "cell_type": "code",
   "execution_count": 75,
   "id": "555b5ab9",
   "metadata": {},
   "outputs": [
    {
     "name": "stdout",
     "output_type": "stream",
     "text": [
      "1\n",
      "2\n"
     ]
    }
   ],
   "source": [
    "# Tipos de redondeos\n",
    "print(math.floor(1.65)) #Redondeo al entero mas proximo hacia abajo\n",
    "print(math.ceil(1.3)) #Redondea al entero mas proximo hacia arriba"
   ]
  }
 ],
 "metadata": {
  "kernelspec": {
   "display_name": "Python 3 (ipykernel)",
   "language": "python",
   "name": "python3"
  },
  "language_info": {
   "codemirror_mode": {
    "name": "ipython",
    "version": 3
   },
   "file_extension": ".py",
   "mimetype": "text/x-python",
   "name": "python",
   "nbconvert_exporter": "python",
   "pygments_lexer": "ipython3",
   "version": "3.9.13"
  }
 },
 "nbformat": 4,
 "nbformat_minor": 5
}
