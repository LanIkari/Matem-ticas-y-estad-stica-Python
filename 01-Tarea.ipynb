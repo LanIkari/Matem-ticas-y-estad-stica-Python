{
 "cells": [
  {
   "cell_type": "markdown",
   "id": "e52ad6a9",
   "metadata": {},
   "source": [
    "Ejercicio 01\n",
    "---\n",
    "Como sabemos la mitosis consiste que una célula o bacteria se divide y origina dos, partiendo de\n",
    "este echo tenemos nos queda la siguiente formula. \n",
    "\n",
    "$$ N = 2 $$\n",
    "\n",
    "Donde t es el tiempo(horas) y N es el número de células o bacterias, entonces ¿Cuánto tiempo\n",
    "necesitamos para que tengamos 2000 organismos celulares?"
   ]
  },
  {
   "cell_type": "markdown",
   "id": "6b63220b",
   "metadata": {},
   "source": [
    "import math"
   ]
  },
  {
   "cell_type": "code",
   "execution_count": 20,
   "id": "02107068",
   "metadata": {},
   "outputs": [
    {
     "name": "stdout",
     "output_type": "stream",
     "text": [
      "11\n"
     ]
    }
   ],
   "source": [
    "print(math.ceil(math.log(2000,2)))"
   ]
  },
  {
   "cell_type": "markdown",
   "id": "e0153435",
   "metadata": {},
   "source": [
    "Ejercicio 2\n",
    "---\n",
    "Resolver y comprobar log2\n",
    "\n",
    "$$ (x − 2) + log2 $$\n",
    "\n",
    "$$ (x − 3) = 1 $$"
   ]
  },
  {
   "cell_type": "code",
   "execution_count": 47,
   "id": "c9c19d9e",
   "metadata": {},
   "outputs": [
    {
     "name": "stdout",
     "output_type": "stream",
     "text": [
      "1.0\n"
     ]
    }
   ],
   "source": [
    "print(math.log(2,2)+math.log(1,2))"
   ]
  },
  {
   "cell_type": "markdown",
   "id": "261206e0",
   "metadata": {},
   "source": [
    "Ejercicio 3\n",
    "---\n",
    "Calcular los cosenos, senos de los siguientes grados:\n",
    "\n",
    "- 90\n",
    "- 135\n",
    "- 330\n",
    "- 750"
   ]
  },
  {
   "cell_type": "code",
   "execution_count": 50,
   "id": "0c1b6583",
   "metadata": {},
   "outputs": [
    {
     "name": "stdout",
     "output_type": "stream",
     "text": [
      "-1.8369701987210297e-16\n",
      "-1.0\n"
     ]
    }
   ],
   "source": [
    "# Convertimos a radianes\n",
    "radianes=(math.pi/120)*180\n",
    "print(math.cos(radianes))\n",
    "print(math.sin(radianes))"
   ]
  },
  {
   "cell_type": "markdown",
   "id": "572cc28e",
   "metadata": {},
   "source": [
    "Ejercicio 4\n",
    "----\n",
    "En cierto estado se decide utilizar tres letras seguidas con tres digitos para las placas de los\n",
    "automoviles.\n",
    "\n",
    "* No se permiten la repitición de letras y digitos\n",
    "* Si se permiten repitición de letras y digitos\n"
   ]
  },
  {
   "cell_type": "code",
   "execution_count": 60,
   "id": "0e00771a",
   "metadata": {},
   "outputs": [
    {
     "name": "stdout",
     "output_type": "stream",
     "text": [
      "11232000\n"
     ]
    }
   ],
   "source": [
    "print(math.perm(26,3)*math.perm(10,3))"
   ]
  },
  {
   "cell_type": "code",
   "execution_count": 63,
   "id": "1833f35b",
   "metadata": {},
   "outputs": [
    {
     "name": "stdout",
     "output_type": "stream",
     "text": [
      "17576000.0\n"
     ]
    }
   ],
   "source": [
    "print(math.pow(26,3)*math.pow(10,3))"
   ]
  },
  {
   "cell_type": "markdown",
   "id": "42b4b0b2",
   "metadata": {},
   "source": [
    "Ejercicio 5\n",
    "---\n",
    "Un grupo de cinco estudiantes, deciden hablar con el departamento de matemáticas para\n",
    "solicitar que esta área ofrezca más cursos de matemáticas discretas, el departamento decide\n",
    "hablar con sólo ahora 3 estudiantes, hay que determinar de cuantas maneras se pueden elegir\n",
    "estos estudiantes sin importar el orden."
   ]
  },
  {
   "cell_type": "code",
   "execution_count": 64,
   "id": "1953cf29",
   "metadata": {},
   "outputs": [
    {
     "name": "stdout",
     "output_type": "stream",
     "text": [
      "10\n"
     ]
    }
   ],
   "source": [
    "print(math.comb(5,3))"
   ]
  }
 ],
 "metadata": {
  "kernelspec": {
   "display_name": "Python 3 (ipykernel)",
   "language": "python",
   "name": "python3"
  },
  "language_info": {
   "codemirror_mode": {
    "name": "ipython",
    "version": 3
   },
   "file_extension": ".py",
   "mimetype": "text/x-python",
   "name": "python",
   "nbconvert_exporter": "python",
   "pygments_lexer": "ipython3",
   "version": "3.9.13"
  }
 },
 "nbformat": 4,
 "nbformat_minor": 5
}
