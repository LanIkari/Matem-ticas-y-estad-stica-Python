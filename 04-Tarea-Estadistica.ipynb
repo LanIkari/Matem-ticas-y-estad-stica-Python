{
 "cells": [
  {
   "attachments": {},
   "cell_type": "markdown",
   "metadata": {},
   "source": [
    "# Tarea Estadistica\n",
    "\n",
    "## *Avendaño Villegas Brandon*\n",
    "\n",
    "01. Los datos siguientes muestran los pesos de 50 estudiantes que se registraron con\n",
    "aproximación de una libra.\n",
    "\n",
    "*Datos 1:* 159 136 180 129 162 150 129 146 128 178 144 167 132 172 156 178 129 142\n",
    "146 159 131 135 168 152 163 145 173 147 137 143 142 133 152 166 146 131\n",
    "131 160 162 146 151 179 146 142 172 175 166 137 162 159\n",
    "\n",
    "02. Se obtuvo la medición de una serie de tornillos que se tienen que embarcar, pero se\n",
    "quiere sacar una estadística descriptiva de las mediciones.\n",
    "\n",
    "*Datos 2:* 1.34 1.2 1.41 1.52 1.49 1.3 1.24 1.29 1.53 1.55 1.37 1.56 1.56 1.39\n",
    "1.39 1.51 1.59 1.54 1.29 1.44 1.5 1.22 1.32 1.42 1.42 1.6 1.58 1.31\n",
    "1.45 1.29 1.51 1.4 1.29 1.57 1.24 1.44 1.28 1.52 1.49 1.41 1.32 1.31\n",
    "1.23 1.25 1.57 1.53 1.35 1.57 1.50 1.49\n",
    "\n",
    "De los datos de arriba encontrar la siguiente información:\n",
    "* El valor más grande\n",
    "* El valor más pequeño\n",
    "* Obtuvieron 125(datos 1), 1.25(datos 2) o mas\n",
    "* Obtuvieron 138(datos 1), 1.32(datos 2) o menos\n",
    "* Porcentaje de valores (129<=x>=146, dato1), (1.39<x>=141, dato2)\n",
    "* Frecuencias absolutas simples\n",
    "* Frecuencias absolutas acumuladas\n",
    "* Frecuencias relativas simples\n",
    "* Frecuencias relativas acumuladas\n",
    "* Media aritmética valores agrupados\n",
    "* Media aritmética de valores no agrupados\n",
    "* Media Geométrica\n",
    "* Media Armónica H\n",
    "* Mediana\n",
    "* Moda\n",
    "* Múltiples Modas (si las hay)\n",
    "* Cuartiles\n",
    "* Deciles\n",
    "* Percentiles\n",
    "* Realizar el histograma con Matplotlib"
   ]
  },
  {
   "cell_type": "code",
   "execution_count": 27,
   "metadata": {},
   "outputs": [],
   "source": [
    "import numpy as np\n",
    "import matplotlib.pyplot as plt"
   ]
  },
  {
   "cell_type": "code",
   "execution_count": 4,
   "metadata": {},
   "outputs": [],
   "source": [
    "# Datos 1\n",
    "datos1 = np.array([159, 136, 180, 129, 162, 150, 129, 146, 128, 178, 144, 167, 132, 172, 156, 178, 129, 142, 146, 159, 131, 135, 168, 152, 163, 145, 173, 147, 137, 143, 142, 133, 152, 166, 146, 131, 131, 160, 162, 146, 151, 179, 146, 142, 172, 175, 166, 137, 162, 159])\n",
    "\n",
    "# Datos 2\n",
    "datos2 = np.array([1.34, 1.2, 1.41, 1.52, 1.49, 1.3, 1.24, 1.29, 1.53, 1.55, 1.37, 1.56, 1.56, 1.39, 1.39, 1.51, 1.59, 1.54, 1.29, 1.44, 1.5, 1.22, 1.32, 1.42, 1.42, 1.6, 1.58, 1.31, 1.45, 1.29, 1.51, 1.4, 1.29, 1.57, 1.24, 1.44, 1.28, 1.52, 1.49, 1.41, 1.32, 1.31, 1.23, 1.25, 1.57, 1.53, 1.35, 1.57, 1.50, 1.49])"
   ]
  },
  {
   "attachments": {},
   "cell_type": "markdown",
   "metadata": {},
   "source": [
    "### El valor más grande"
   ]
  },
  {
   "cell_type": "code",
   "execution_count": 6,
   "metadata": {},
   "outputs": [
    {
     "name": "stdout",
     "output_type": "stream",
     "text": [
      "El valor más grande (datos 1): 180\n",
      "El valor más grande (datos 2): 1.6\n"
     ]
    }
   ],
   "source": [
    "max_value1 = np.max(datos1)\n",
    "max_value2 = np.max(datos2)\n",
    "print(\"El valor más grande (datos 1):\", max_value1)\n",
    "print(\"El valor más grande (datos 2):\", max_value2)"
   ]
  },
  {
   "attachments": {},
   "cell_type": "markdown",
   "metadata": {},
   "source": [
    "### El valor más pequeño"
   ]
  },
  {
   "cell_type": "code",
   "execution_count": 7,
   "metadata": {},
   "outputs": [
    {
     "name": "stdout",
     "output_type": "stream",
     "text": [
      "El valor más pequeño (datos 1): 128\n",
      "El valor más pequeño (datos 2): 1.2\n"
     ]
    }
   ],
   "source": [
    "min_value1 = np.min(datos1)\n",
    "min_value2 = np.min(datos2)\n",
    "print(\"El valor más pequeño (datos 1):\", min_value1)\n",
    "print(\"El valor más pequeño (datos 2):\", min_value2)"
   ]
  },
  {
   "attachments": {},
   "cell_type": "markdown",
   "metadata": {},
   "source": [
    "### Obtuvieron 125(datos 1), 1.25(datos 2) o mas"
   ]
  },
  {
   "cell_type": "code",
   "execution_count": 8,
   "metadata": {},
   "outputs": [
    {
     "name": "stdout",
     "output_type": "stream",
     "text": [
      "Obtuvieron 125 o más (datos 1): 50\n",
      "Obtuvieron 1.25 o más (datos 2): 45\n"
     ]
    }
   ],
   "source": [
    "count_greater_than_125_d1 = np.sum(datos1 >= 125)\n",
    "count_greater_than_125_d2 = np.sum(datos2 >= 1.25)\n",
    "print(\"Obtuvieron 125 o más (datos 1):\", count_greater_than_125_d1)\n",
    "print(\"Obtuvieron 1.25 o más (datos 2):\", count_greater_than_125_d2)"
   ]
  },
  {
   "attachments": {},
   "cell_type": "markdown",
   "metadata": {},
   "source": [
    "### Obtuvieron 138(datos 1), 1.32(datos 2) o menos"
   ]
  },
  {
   "cell_type": "code",
   "execution_count": 10,
   "metadata": {},
   "outputs": [
    {
     "name": "stdout",
     "output_type": "stream",
     "text": [
      "Obtuvieron 138 o menos (datos 1): 13\n",
      "Obtuvieron 1.32 o menos (datos 2): 16\n"
     ]
    }
   ],
   "source": [
    "count_less_than_138_d1 = np.sum(datos1 <= 138)\n",
    "count_less_than_138_d2 = np.sum(datos2 <= 1.32)\n",
    "print(\"Obtuvieron 138 o menos (datos 1):\", count_less_than_138_d1)\n",
    "print(\"Obtuvieron 1.32 o menos (datos 2):\", count_less_than_138_d2)"
   ]
  },
  {
   "attachments": {},
   "cell_type": "markdown",
   "metadata": {},
   "source": [
    "### Porcentaje de valores (129<=x>=146, dato1), (1.39<x>=141, dato2)"
   ]
  },
  {
   "cell_type": "code",
   "execution_count": 11,
   "metadata": {},
   "outputs": [
    {
     "name": "stdout",
     "output_type": "stream",
     "text": [
      "Porcentaje de valores (129<=x>=146, datos 1): 46.0\n",
      "Porcentaje de valores (1.39<x>=1.41, datos 2): 6.0\n"
     ]
    }
   ],
   "source": [
    "percentage_d1 = np.sum((datos1 >= 129) & (datos1 <= 146)) / len(datos1) * 100\n",
    "percentage_d2 = np.sum((datos2 > 1.39) & (datos2 <= 1.41)) / len(datos2) * 100\n",
    "print(\"Porcentaje de valores (129<=x>=146, datos 1):\", percentage_d1)\n",
    "print(\"Porcentaje de valores (1.39<x>=1.41, datos 2):\", percentage_d2)"
   ]
  },
  {
   "attachments": {},
   "cell_type": "markdown",
   "metadata": {},
   "source": [
    "### Frecuencias absolutas simples"
   ]
  },
  {
   "cell_type": "code",
   "execution_count": 12,
   "metadata": {},
   "outputs": [
    {
     "name": "stdout",
     "output_type": "stream",
     "text": [
      "Frecuencias absolutas simples (datos 1):\n",
      "[10  6 10  4  8  6  6]\n",
      "Frecuencias absolutas simples (datos 2):\n",
      "[ 6  8  5  7  3 12  9]\n"
     ]
    }
   ],
   "source": [
    "freq_abs_d1, bins_d1 = np.histogram(datos1, bins='auto')\n",
    "freq_abs_d2, bins_d2 = np.histogram(datos2, bins='auto')\n",
    "print(\"Frecuencias absolutas simples (datos 1):\")\n",
    "print(freq_abs_d1)\n",
    "print(\"Frecuencias absolutas simples (datos 2):\")\n",
    "print(freq_abs_d2)"
   ]
  },
  {
   "attachments": {},
   "cell_type": "markdown",
   "metadata": {},
   "source": [
    "### Frecuencias absolutas acumuladas"
   ]
  },
  {
   "cell_type": "code",
   "execution_count": 13,
   "metadata": {},
   "outputs": [
    {
     "name": "stdout",
     "output_type": "stream",
     "text": [
      "Frecuencias absolutas acumuladas (datos 1):\n",
      "[10 16 26 30 38 44 50]\n",
      "Frecuencias absolutas acumuladas (datos 2):\n",
      "[ 6 14 19 26 29 41 50]\n"
     ]
    }
   ],
   "source": [
    "freq_abs_cum_d1 = np.cumsum(freq_abs_d1)\n",
    "freq_abs_cum_d2 = np.cumsum(freq_abs_d2)\n",
    "print(\"Frecuencias absolutas acumuladas (datos 1):\")\n",
    "print(freq_abs_cum_d1)\n",
    "print(\"Frecuencias absolutas acumuladas (datos 2):\")\n",
    "print(freq_abs_cum_d2)"
   ]
  },
  {
   "attachments": {},
   "cell_type": "markdown",
   "metadata": {},
   "source": [
    "### Frecuencias relativas simples"
   ]
  },
  {
   "cell_type": "code",
   "execution_count": 14,
   "metadata": {},
   "outputs": [
    {
     "name": "stdout",
     "output_type": "stream",
     "text": [
      "Frecuencias relativas simples (datos 1):\n",
      "[0.2  0.12 0.2  0.08 0.16 0.12 0.12]\n",
      "Frecuencias relativas simples (datos 2):\n",
      "[0.12 0.16 0.1  0.14 0.06 0.24 0.18]\n"
     ]
    }
   ],
   "source": [
    "freq_rel_d1 = freq_abs_d1 / len(datos1)\n",
    "freq_rel_d2 = freq_abs_d2 / len(datos2)\n",
    "print(\"Frecuencias relativas simples (datos 1):\")\n",
    "print(freq_rel_d1)\n",
    "print(\"Frecuencias relativas simples (datos 2):\")\n",
    "print(freq_rel_d2)"
   ]
  },
  {
   "attachments": {},
   "cell_type": "markdown",
   "metadata": {},
   "source": [
    "### Frecuencias relativas acumuladas"
   ]
  },
  {
   "cell_type": "code",
   "execution_count": 15,
   "metadata": {},
   "outputs": [
    {
     "name": "stdout",
     "output_type": "stream",
     "text": [
      "Frecuencias relativas acumuladas (datos 1):\n",
      "[0.2  0.32 0.52 0.6  0.76 0.88 1.  ]\n",
      "Frecuencias relativas acumuladas (datos 2):\n",
      "[0.12 0.28 0.38 0.52 0.58 0.82 1.  ]\n"
     ]
    }
   ],
   "source": [
    "freq_rel_cum_d1 = np.cumsum(freq_rel_d1)\n",
    "freq_rel_cum_d2 = np.cumsum(freq_rel_d2)\n",
    "print(\"Frecuencias relativas acumuladas (datos 1):\")\n",
    "print(freq_rel_cum_d1)\n",
    "print(\"Frecuencias relativas acumuladas (datos 2):\")\n",
    "print(freq_rel_cum_d2)"
   ]
  },
  {
   "attachments": {},
   "cell_type": "markdown",
   "metadata": {},
   "source": [
    "### Media aritmética valores agrupados"
   ]
  },
  {
   "cell_type": "code",
   "execution_count": 16,
   "metadata": {},
   "outputs": [
    {
     "name": "stdout",
     "output_type": "stream",
     "text": [
      "Media aritmética valores agrupados (datos 1): 151.92\n",
      "Media aritmética valores agrupados (datos 2): 1.4171428571428573\n"
     ]
    }
   ],
   "source": [
    "midpoints_d1 = (bins_d1[:-1] + bins_d1[1:]) / 2\n",
    "mean_agrup_d1 = np.sum(midpoints_d1 * freq_abs_d1) / np.sum(freq_abs_d1)\n",
    "print(\"Media aritmética valores agrupados (datos 1):\", mean_agrup_d1)\n",
    "\n",
    "midpoints_d2 = (bins_d2[:-1] + bins_d2[1:]) / 2\n",
    "mean_agrup_d2 = np.sum(midpoints_d2 * freq_abs_d2) / np.sum(freq_abs_d2)\n",
    "print(\"Media aritmética valores agrupados (datos 2):\", mean_agrup_d2)"
   ]
  },
  {
   "attachments": {},
   "cell_type": "markdown",
   "metadata": {},
   "source": [
    "### Media aritmética de valores no agrupados"
   ]
  },
  {
   "cell_type": "code",
   "execution_count": 17,
   "metadata": {},
   "outputs": [
    {
     "name": "stdout",
     "output_type": "stream",
     "text": [
      "Media aritmética de valores no agrupados (datos 1): 151.48\n",
      "Media aritmética de valores no agrupados (datos 2): 1.4178\n"
     ]
    }
   ],
   "source": [
    "mean_d1 = np.mean(datos1)\n",
    "mean_d2 = np.mean(datos2)\n",
    "print(\"Media aritmética de valores no agrupados (datos 1):\", mean_d1)\n",
    "print(\"Media aritmética de valores no agrupados (datos 2):\", mean_d2)"
   ]
  },
  {
   "attachments": {},
   "cell_type": "markdown",
   "metadata": {},
   "source": [
    "### Media Geométrica"
   ]
  },
  {
   "cell_type": "code",
   "execution_count": 18,
   "metadata": {},
   "outputs": [
    {
     "name": "stdout",
     "output_type": "stream",
     "text": [
      "Media geométrica (datos 1): 0.0\n",
      "Media geométrica (datos 2): 1.4128346503940055\n"
     ]
    }
   ],
   "source": [
    "geo_mean_d1 = np.prod(datos1) ** (1 / len(datos1))\n",
    "geo_mean_d2 = np.prod(datos2) ** (1 / len(datos2))\n",
    "print(\"Media geométrica (datos 1):\", geo_mean_d1)\n",
    "print(\"Media geométrica (datos 2):\", geo_mean_d2)"
   ]
  },
  {
   "attachments": {},
   "cell_type": "markdown",
   "metadata": {},
   "source": [
    "### Media Armónica H"
   ]
  },
  {
   "cell_type": "code",
   "execution_count": 19,
   "metadata": {},
   "outputs": [
    {
     "name": "stdout",
     "output_type": "stream",
     "text": [
      "Media armónica H (datos 1): 149.90230829714335\n",
      "Media armónica H (datos 2): 1.4078154299191492\n"
     ]
    }
   ],
   "source": [
    "harm_mean_d1 = len(datos1) / np.sum(1 / datos1)\n",
    "harm_mean_d2 = len(datos2) / np.sum(1 / datos2)\n",
    "print(\"Media armónica H (datos 1):\", harm_mean_d1)\n",
    "print(\"Media armónica H (datos 2):\", harm_mean_d2)"
   ]
  },
  {
   "attachments": {},
   "cell_type": "markdown",
   "metadata": {},
   "source": [
    "### Mediana"
   ]
  },
  {
   "cell_type": "code",
   "execution_count": 20,
   "metadata": {},
   "outputs": [
    {
     "name": "stdout",
     "output_type": "stream",
     "text": [
      "Mediana (datos 1): 148.5\n",
      "Mediana (datos 2): 1.42\n"
     ]
    }
   ],
   "source": [
    "median_d1 = np.median(datos1)\n",
    "median_d2 = np.median(datos2)\n",
    "print(\"Mediana (datos 1):\", median_d1)\n",
    "print(\"Mediana (datos 2):\", median_d2)"
   ]
  },
  {
   "attachments": {},
   "cell_type": "markdown",
   "metadata": {},
   "source": [
    "### Moda"
   ]
  },
  {
   "cell_type": "code",
   "execution_count": 21,
   "metadata": {},
   "outputs": [
    {
     "name": "stdout",
     "output_type": "stream",
     "text": [
      "Moda (datos 1): 131.71428571428572\n",
      "Moda (datos 2): 1.5142857142857142\n"
     ]
    }
   ],
   "source": [
    "mode_d1 = np.argmax(freq_abs_d1)\n",
    "mode_value_d1 = midpoints_d1[mode_d1]\n",
    "mode_d2 = np.argmax(freq_abs_d2)\n",
    "mode_value_d2 = midpoints_d2[mode_d2]\n",
    "print(\"Moda (datos 1):\", mode_value_d1)\n",
    "print(\"Moda (datos 2):\", mode_value_d2)"
   ]
  },
  {
   "attachments": {},
   "cell_type": "markdown",
   "metadata": {},
   "source": [
    "### Multiples Modas(si las hay)"
   ]
  },
  {
   "cell_type": "code",
   "execution_count": 22,
   "metadata": {},
   "outputs": [
    {
     "name": "stdout",
     "output_type": "stream",
     "text": [
      "Múltiples Modas (datos 1): [131.71428571 146.57142857]\n",
      "Múltiples Modas (datos 2): [1.51428571]\n"
     ]
    }
   ],
   "source": [
    "multi_modes_d1 = midpoints_d1[freq_abs_d1 == np.max(freq_abs_d1)]\n",
    "multi_modes_d2 = midpoints_d2[freq_abs_d2 == np.max(freq_abs_d2)]\n",
    "print(\"Múltiples Modas (datos 1):\", multi_modes_d1)\n",
    "print(\"Múltiples Modas (datos 2):\", multi_modes_d2)"
   ]
  },
  {
   "attachments": {},
   "cell_type": "markdown",
   "metadata": {},
   "source": [
    "### Cuartiles"
   ]
  },
  {
   "cell_type": "code",
   "execution_count": 23,
   "metadata": {},
   "outputs": [
    {
     "name": "stdout",
     "output_type": "stream",
     "text": [
      "Cuartiles (datos 1): [138.25 148.5  162.75]\n",
      "Cuartiles (datos 2): [1.31 1.42 1.52]\n"
     ]
    }
   ],
   "source": [
    "quartiles_d1 = np.percentile(datos1, [25, 50, 75])\n",
    "quartiles_d2 = np.percentile(datos2, [25, 50, 75])\n",
    "print(\"Cuartiles (datos 1):\", quartiles_d1)\n",
    "print(\"Cuartiles (datos 2):\", quartiles_d2)"
   ]
  },
  {
   "attachments": {},
   "cell_type": "markdown",
   "metadata": {},
   "source": [
    "### Deciles"
   ]
  },
  {
   "cell_type": "code",
   "execution_count": 24,
   "metadata": {},
   "outputs": [
    {
     "name": "stdout",
     "output_type": "stream",
     "text": [
      "Deciles (datos 1): [131.  135.8 142.  146.  148.5 157.2 162.  166.2 173.2]\n",
      "Deciles (datos 2): [1.249 1.29  1.32  1.39  1.42  1.49  1.51  1.532 1.57 ]\n"
     ]
    }
   ],
   "source": [
    "deciles_d1 = np.percentile(datos1, np.arange(10, 100, 10))\n",
    "deciles_d2 = np.percentile(datos2, np.arange(10, 100, 10))\n",
    "print(\"Deciles (datos 1):\", deciles_d1)\n",
    "print(\"Deciles (datos 2):\", deciles_d2)"
   ]
  },
  {
   "attachments": {},
   "cell_type": "markdown",
   "metadata": {},
   "source": [
    "### Percentiles"
   ]
  },
  {
   "cell_type": "code",
   "execution_count": 25,
   "metadata": {},
   "outputs": [
    {
     "name": "stdout",
     "output_type": "stream",
     "text": [
      "Percentiles (datos 1): [128.49 128.98 129.   129.   129.   129.   129.86 130.84 131.   131.\n",
      " 131.   131.   131.37 131.86 132.35 132.84 133.66 134.64 135.31 135.8\n",
      " 136.29 136.78 137.   137.   138.25 140.7  142.   142.   142.   142.\n",
      " 142.19 142.68 143.17 143.66 144.15 144.64 145.13 145.62 146.   146.\n",
      " 146.   146.   146.   146.   146.   146.   146.03 146.52 147.03 148.5\n",
      " 149.97 150.48 150.97 151.46 151.95 152.   152.   153.68 155.64 157.2\n",
      " 158.67 159.   159.   159.   159.   159.34 159.83 160.64 161.62 162.\n",
      " 162.   162.   162.   162.26 162.75 163.72 165.19 166.   166.   166.2\n",
      " 166.69 167.18 167.67 168.64 170.6  172.   172.   172.12 172.61 173.2\n",
      " 174.18 175.24 176.71 178.   178.   178.04 178.53 179.02 179.51]\n",
      "Percentiles (datos 2): [1.2098 1.2196 1.2247 1.2296 1.2345 1.2394 1.24   1.24   1.2441 1.249\n",
      " 1.2617 1.2764 1.2837 1.2886 1.29   1.29   1.29   1.29   1.29   1.29\n",
      " 1.2929 1.2978 1.3027 1.3076 1.31   1.31   1.3123 1.3172 1.32   1.32\n",
      " 1.3238 1.3336 1.3417 1.3466 1.353  1.3628 1.3726 1.3824 1.39   1.39\n",
      " 1.3909 1.3958 1.4007 1.4056 1.41   1.41   1.4103 1.4152 1.42   1.42\n",
      " 1.42   1.4296 1.4394 1.44   1.44   1.4444 1.4493 1.4668 1.4864 1.49\n",
      " 1.49   1.49   1.49   1.4936 1.4985 1.5    1.5    1.5032 1.5081 1.51\n",
      " 1.51   1.5128 1.5177 1.52   1.52   1.5224 1.5273 1.53   1.53   1.532\n",
      " 1.5369 1.5418 1.5467 1.5516 1.5565 1.56   1.56   1.5612 1.5661 1.57\n",
      " 1.57   1.57   1.57   1.5706 1.5755 1.5804 1.5853 1.5902 1.5951]\n"
     ]
    }
   ],
   "source": [
    "percentiles_d1 = np.percentile(datos1, np.arange(1, 100))\n",
    "percentiles_d2 = np.percentile(datos2, np.arange(1, 100))\n",
    "print(\"Percentiles (datos 1):\", percentiles_d1)\n",
    "print(\"Percentiles (datos 2):\", percentiles_d2)\n"
   ]
  },
  {
   "attachments": {},
   "cell_type": "markdown",
   "metadata": {},
   "source": [
    "### Realizar el histograma con Matplotlib"
   ]
  },
  {
   "cell_type": "code",
   "execution_count": 26,
   "metadata": {},
   "outputs": [
    {
     "data": {
      "image/png": "[encoded data removed]",
      "text/plain": [
       "<Figure size 640x480 with 1 Axes>"
      ]
     },
     "metadata": {},
     "output_type": "display_data"
    },
    {
     "data": {
      "image/png": "[encoded data removed]",
      "text/plain": [
       "<Figure size 640x480 with 1 Axes>"
      ]
     },
     "metadata": {},
     "output_type": "display_data"
    }
   ],
   "source": [
    "plt.hist(datos1, bins='auto', alpha=0.7, rwidth=0.85)\n",
    "plt.xlabel('Valores')\n",
    "plt.ylabel('Frecuencia')\n",
    "plt.title('Histograma de Datos 1')\n",
    "plt.grid(True)\n",
    "plt.show()\n",
    "\n",
    "plt.hist(datos2, bins='auto', alpha=0.7, rwidth=0.85)\n",
    "plt.xlabel('Valores')\n",
    "plt.ylabel('Frecuencia')\n",
    "plt.title('Histograma de Datos 2')\n",
    "plt.grid(True)\n",
    "plt.show()"
   ]
  }
 ],
 "metadata": {
  "kernelspec": {
   "display_name": "base",
   "language": "python",
   "name": "python3"
  },
  "language_info": {
   "codemirror_mode": {
    "name": "ipython",
    "version": 3
   },
   "file_extension": ".py",
   "mimetype": "text/x-python",
   "name": "python",
   "nbconvert_exporter": "python",
   "pygments_lexer": "ipython3",
   "version": "3.9.13"
  },
  "orig_nbformat": 4
 },
 "nbformat": 4,
 "nbformat_minor": 2
}
