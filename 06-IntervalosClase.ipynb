{
 "cells": [
  {
   "cell_type": "code",
   "execution_count": 1,
   "metadata": {},
   "outputs": [],
   "source": [
    "import matplotlib.pyplot as plt\n",
    "import numpy as np \n",
    "import statistics as sts"
   ]
  },
  {
   "cell_type": "code",
   "execution_count": 8,
   "metadata": {},
   "outputs": [
    {
     "ename": "SyntaxError",
     "evalue": "invalid syntax (4096787381.py, line 9)",
     "output_type": "error",
     "traceback": [
      "\u001b[1;36m  File \u001b[1;32m\"C:\\Users\\angel\\AppData\\Local\\Temp\\ipykernel_16208\\4096787381.py\"\u001b[1;36m, line \u001b[1;32m9\u001b[0m\n\u001b[1;33m    interalos=rango/9\u001b[0m\n\u001b[1;37m    ^\u001b[0m\n\u001b[1;31mSyntaxError\u001b[0m\u001b[1;31m:\u001b[0m invalid syntax\n"
     ]
    }
   ],
   "source": [
    "arg1=np.loadtxt('data/datos2.csv'  ,delimiter=',', dtype=np.float32)\n",
    "print(arg1)\n",
    "print(arg1.shape)\n",
    "arg2=np.sort(np.reshape(arg1,50))\n",
    "print(arg2)#De esta forma podemos trabajar mejor con los datos\n",
    "rango=arg2[49]-arg2[0]\n",
    "print(rango\n",
    "#Intervalo de la clase\n",
    "interalos=rango/9\n",
    "b=np.arrange(arg[0],arg[49],intervalos, dtype=np.int16)\n",
    "fig, ax = plt.subplots()\n",
    "intervalos_clase=ax.hist(arg2, bins=b,range=(arg2[0],arg2[49]), linewidth=0.5, edgecolor=\"white\")\n",
    "plt.xticks(fontsize=8)\n",
    "ax.set(xlim=(100, 190), xticks=intervalos_clase[1],\n",
    "       ylim=(0, 14), yticks=np.arange(0, 14, 1,dtype=np.int16))\n",
    "print(intervalos_clase)\n",
    "ax.grid(True)\n",
    "plt.show()"
   ]
  }
 ],
 "metadata": {
  "kernelspec": {
   "display_name": "base",
   "language": "python",
   "name": "python3"
  },
  "language_info": {
   "codemirror_mode": {
    "name": "ipython",
    "version": 3
   },
   "file_extension": ".py",
   "mimetype": "text/x-python",
   "name": "python",
   "nbconvert_exporter": "python",
   "pygments_lexer": "ipython3",
   "version": "3.9.13"
  },
  "orig_nbformat": 4
 },
 "nbformat": 4,
 "nbformat_minor": 2
}
