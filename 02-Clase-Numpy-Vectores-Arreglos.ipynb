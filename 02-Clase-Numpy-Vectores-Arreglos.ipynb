{
 "cells": [
  {
   "attachments": {},
   "cell_type": "markdown",
   "metadata": {},
   "source": [
    "# Numpy"
   ]
  },
  {
   "cell_type": "code",
   "execution_count": 27,
   "metadata": {},
   "outputs": [],
   "source": [
    "import numpy  as np"
   ]
  },
  {
   "attachments": {},
   "cell_type": "markdown",
   "metadata": {},
   "source": [
    "# Vectores y Matrices"
   ]
  },
  {
   "cell_type": "code",
   "execution_count": 4,
   "metadata": {},
   "outputs": [
    {
     "name": "stdout",
     "output_type": "stream",
     "text": [
      "[0 1 2 3 4 5]\n"
     ]
    }
   ],
   "source": [
    "vector=np.array([0,1,2,3,4,5])\n",
    "print(vector)"
   ]
  },
  {
   "cell_type": "code",
   "execution_count": 7,
   "metadata": {},
   "outputs": [
    {
     "name": "stdout",
     "output_type": "stream",
     "text": [
      "[1. 2. 3. 4. 5.]\n",
      "[0.0e+00 0.0e+00 6.0e-08 0.0e+00 1.2e-07 0.0e+00 1.8e-07 0.0e+00 2.4e-07\n",
      " 0.0e+00 3.0e-07 0.0e+00]\n",
      "[1 2 3 4 5]\n"
     ]
    }
   ],
   "source": [
    "#Formas de cambiar de tipo de dato un vector\n",
    "vectorDos=np.array([1,2,3,4,5], dtype=np.float32)\n",
    "print(vectorDos)\n",
    "\n",
    "#Formas de cambiar de tipo de dato un vector\n",
    "vector.dtype=np.float16\n",
    "print(vector)\n",
    "\n",
    "# Esta es la forma correcta de cambiar el tipo de dato de un vector\n",
    "vectorTres=np.array([1,2,3,4,5])\n",
    "vectorTre=vectorTres.astype(np.float16)\n",
    "print(vectorTres)"
   ]
  },
  {
   "cell_type": "code",
   "execution_count": 9,
   "metadata": {},
   "outputs": [
    {
     "name": "stdout",
     "output_type": "stream",
     "text": [
      "4\n"
     ]
    }
   ],
   "source": [
    "#Acceso a la informacion de un vector con numpy\n",
    "print(vectorTres[3])\n"
   ]
  },
  {
   "cell_type": "code",
   "execution_count": 11,
   "metadata": {},
   "outputs": [
    {
     "name": "stdout",
     "output_type": "stream",
     "text": [
      "[0 2 4 6]\n"
     ]
    }
   ],
   "source": [
    "vectorCuatro=np.array([0,1,2,3,4,5,6,7,8,9,10,11,12,13,14,15])\n",
    "print(vectorCuatro[0:8:2])"
   ]
  },
  {
   "attachments": {},
   "cell_type": "markdown",
   "metadata": {},
   "source": [
    "## Operaciones con Matrices y Vectores"
   ]
  },
  {
   "cell_type": "code",
   "execution_count": 18,
   "metadata": {},
   "outputs": [
    {
     "name": "stdout",
     "output_type": "stream",
     "text": [
      "[ 0  0 -1]\n",
      "[0 2 5]\n",
      "[ 0 -1 -6]\n",
      "[0. 1. 2.]\n",
      "[0 3 6]\n",
      "[False  True  True]\n",
      "[False  True  True]\n",
      "[1 1 4]\n"
     ]
    }
   ],
   "source": [
    "\n",
    "a=np.array([0,1,2])\n",
    "b=np.array([0,-1,-3])\n",
    "c=np.array([1,1,1])\n",
    "\n",
    "print(a+b)\n",
    "print(a-b)\n",
    "\n",
    "print(a*b)\n",
    "print(a/c)\n",
    "print(3*a)\n",
    "print(a>=1)\n",
    "demo=a>=1\n",
    "print(demo)\n",
    "\n",
    "print(a**a)"
   ]
  },
  {
   "cell_type": "code",
   "execution_count": 21,
   "metadata": {},
   "outputs": [
    {
     "name": "stdout",
     "output_type": "stream",
     "text": [
      "[ 0.          1.07142857  2.14285714  3.21428571  4.28571429  5.35714286\n",
      "  6.42857143  7.5         8.57142857  9.64285714 10.71428571 11.78571429\n",
      " 12.85714286 13.92857143 15.        ]\n",
      "[ 0  1  2  3  4  5  6  7  8  9 10 11 12 13 14]\n"
     ]
    }
   ],
   "source": [
    "#Creacion de vectores\n",
    "print(np.linspace(0,15,15)) # Del numero 0 al numero 15 reaizaremos una resta, dividida en 15 elementos\n",
    "print(np.arange(0,15,1)) #Intervalo abierto "
   ]
  },
  {
   "cell_type": "code",
   "execution_count": 23,
   "metadata": {},
   "outputs": [
    {
     "name": "stdout",
     "output_type": "stream",
     "text": [
      "[[1 2 3]\n",
      " [4 5 6]\n",
      " [7 8 9]]\n"
     ]
    }
   ],
   "source": [
    "matrix=np.array([[1,2,3],[4,5,6],[7,8,9]])\n",
    "print(matrix)"
   ]
  },
  {
   "attachments": {},
   "cell_type": "markdown",
   "metadata": {},
   "source": [
    "Redimencionamiento de Matrices y vectores"
   ]
  },
  {
   "cell_type": "code",
   "execution_count": 33,
   "metadata": {},
   "outputs": [
    {
     "name": "stdout",
     "output_type": "stream",
     "text": [
      "(3, 3)\n",
      "(16,)\n",
      "[1 2 3 4 5 6 7 8 9]\n",
      "[[1 2 3]\n",
      " [4 5 6]\n",
      " [7 8 9]]\n",
      "[[ 0  1  2  3  4  5  6  7]\n",
      " [ 8  9 10 11 12 13 14 15]]\n"
     ]
    }
   ],
   "source": [
    "# Para utilizar shape la matriz tiene que ser homogenea:3x3, 4x4, 5x5 etc.\n",
    "print(matrix.shape)\n",
    "a= np.arange(0,16,1)\n",
    "print(a.shape)\n",
    "nueva=matrix.reshape(9,) # Redimencionamos la matriz, de una matriz pasa a un vector\n",
    "print(nueva)\n",
    "print(matrix)\n",
    "b= a.reshape(2,8)\n",
    "print(b)"
   ]
  },
  {
   "attachments": {},
   "cell_type": "markdown",
   "metadata": {},
   "source": [
    "Union de Matrices"
   ]
  },
  {
   "cell_type": "code",
   "execution_count": 36,
   "metadata": {},
   "outputs": [
    {
     "name": "stdout",
     "output_type": "stream",
     "text": [
      "(3, 2, 2)\n"
     ]
    }
   ],
   "source": [
    "mt1=[[34,3],[67,7]]\n",
    "mt2=[[11,2],[78,3]]\n",
    "mt3=[[23,32],[90,1]]\n",
    "arr1=np.array([mt1,mt2,mt3])\n",
    "print(arr1.shape)"
   ]
  },
  {
   "attachments": {},
   "cell_type": "markdown",
   "metadata": {},
   "source": [
    "Indexacion con cortes"
   ]
  },
  {
   "cell_type": "code",
   "execution_count": 50,
   "metadata": {},
   "outputs": [
    {
     "name": "stdout",
     "output_type": "stream",
     "text": [
      "[[1 2 3]\n",
      " [4 5 6]\n",
      " [7 8 9]]\n",
      "(3, 3)\n",
      "---------------------\n",
      "[[2 3]\n",
      " [5 6]]\n",
      "8\n",
      "(1, 3)\n",
      "8\n"
     ]
    }
   ],
   "source": [
    "m=np.array([[1,2,3],[4,5,6],[7,8,9]])\n",
    "print(m)\n",
    "print(m.shape)\n",
    "print(\"---------------------\")\n",
    "c1=m[:2,1]\n",
    "c1=m[:2,1:3] #Primer valor para las filas, segundo valor para las columnas y el ultimo para indicar de donde a donde\n",
    "c2=m[2] #Obtenemos vectoe\n",
    "print(c1)\n",
    "print(c2[1])#Obtenemos elemento\n",
    "\n",
    "#Otra forma de acceder a los elemtnos\n",
    "c2=m[2:,:]\n",
    "print(c2.shape) #Nos indica el numero de filas y columnas: 1 fila y 3 columnas\n",
    "print(c2[0][1])"
   ]
  },
  {
   "attachments": {},
   "cell_type": "markdown",
   "metadata": {},
   "source": [
    "$$ Determinastes-Inversas $$"
   ]
  },
  {
   "cell_type": "code",
   "execution_count": 54,
   "metadata": {},
   "outputs": [
    {
     "name": "stdout",
     "output_type": "stream",
     "text": [
      "[2. 1.]\n",
      "[3. 5.]\n"
     ]
    }
   ],
   "source": [
    "A=np.array([[2,-1],[1,3]])\n",
    "B=np.array([3,5])\n",
    "c=np.linalg.solve(A,B)\n",
    "print(c)\n",
    "print(A@c)# Multiplicacion de matrices"
   ]
  }
 ],
 "metadata": {
  "kernelspec": {
   "display_name": "base",
   "language": "python",
   "name": "python3"
  },
  "language_info": {
   "codemirror_mode": {
    "name": "ipython",
    "version": 3
   },
   "file_extension": ".py",
   "mimetype": "text/x-python",
   "name": "python",
   "nbconvert_exporter": "python",
   "pygments_lexer": "ipython3",
   "version": "3.9.13"
  },
  "orig_nbformat": 4
 },
 "nbformat": 4,
 "nbformat_minor": 2
}
